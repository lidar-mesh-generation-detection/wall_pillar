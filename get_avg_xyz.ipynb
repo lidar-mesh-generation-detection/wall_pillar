{
 "cells": [
  {
   "cell_type": "code",
   "execution_count": 1,
   "metadata": {},
   "outputs": [
    {
     "name": "stdout",
     "output_type": "stream",
     "text": [
      "./object/walls/wall_8.pcd -> X 평균: 6.300000190734863, Y 평균: 20.06218691578495, Z 평균: 1.5000000027939677\n",
      "./object/walls/wall_9.pcd -> X 평균: 3.845901638757987, Y 평균: 1.7000000476837158, Z 평균: 1.5000000027939677\n",
      "\u001b[1;33m[Open3D WARNING] Read geometry::PointCloud failed: unknown file extension for ./object/walls/.DS_Store (format: auto).\u001b[0;m\n",
      "./object/walls/.DS_Store -> X 평균: nan, Y 평균: nan, Z 평균: nan\n",
      "./object/walls/wall_1.pcd -> X 평균: 42.829586914930296, Y 평균: 9.940893702153508, Z 평균: 1.7910841212695567\n",
      "./object/walls/wall_0.pcd -> X 평균: 30.844254839322574, Y 평균: -4.080533814568328, Z 평균: 1.5790299227361415\n",
      "./object/walls/wall_2.pcd -> X 평균: 35.10485414621946, Y 평균: 38.69153145006041, Z 평균: 1.4687181773908087\n",
      "./object/walls/wall_3.pcd -> X 평균: -0.9176990275958367, Y 평균: 62.012592777974206, Z 평균: 1.6345458224927039\n",
      "./object/walls/wall_7.pcd -> X 평균: 6.5, Y 평균: 45.28364519875658, Z 평균: 1.5000000027939677\n",
      "./object/walls/wall_6.pcd -> X 평균: 42.46939694328137, Y 평균: 56.813172223710815, Z 평균: 1.2889957954821205\n",
      "./object/walls/wall_4.pcd -> X 평균: 20.596619283255546, Y 평균: 64.25452004466577, Z 평균: 1.38920032425188\n",
      "./object/walls/wall_5.pcd -> X 평균: 9.845547082345629, Y 평균: 60.95237131187477, Z 평균: 1.223328299674667\n",
      "./object/pillars/pillar0_5.pcd -> X 평균: 10.299999872843424, Y 평균: 2.200000023841858, Z 평균: 1.4000000029802322\n",
      "./object/pillars/pillar2_6.pcd -> X 평균: 27.0, Y 평균: 49.0, Z 평균: 1.4000000029802322\n",
      "./object/pillars/pillar0_4.pcd -> X 평균: 10.299999872843424, Y 평균: 10.699999872843424, Z 평균: 1.4000000029802322\n",
      "./object/pillars/pillar0_6.pcd -> X 평균: 10.299999872843424, Y 평균: 31.5, Z 평균: 1.4000000029802322\n",
      "./object/pillars/pillar2_4.pcd -> X 평균: 27.0, Y 평균: 31.39999974568685, Z 평균: 1.4000000029802322\n",
      "./object/pillars/pillar2_5.pcd -> X 평균: 27.0, Y 평균: 39.900001017252606, Z 평균: 1.4000000029802322\n",
      "./object/pillars/pillar0_3.pcd -> X 평균: 10.299999872843424, Y 평균: 19.39999974568685, Z 평균: 1.4000000029802322\n",
      "./object/pillars/pillar2_1.pcd -> X 평균: 27.0, Y 평균: 2.200000023841858, Z 평균: 1.4000000029802322\n",
      "\u001b[1;33m[Open3D WARNING] Read geometry::PointCloud failed: unknown file extension for ./object/pillars/.DS_Store (format: auto).\u001b[0;m\n",
      "./object/pillars/.DS_Store -> X 평균: nan, Y 평균: nan, Z 평균: nan\n",
      "./object/pillars/pillar2_0.pcd -> X 평균: 27.0, Y 평균: 10.600000254313152, Z 평균: 1.4000000029802322\n",
      "./object/pillars/pillar0_2.pcd -> X 평균: 10.299999872843424, Y 평균: 25.299999491373697, Z 평균: 1.4000000029802322\n",
      "./object/pillars/pillar0_0.pcd -> X 평균: 10.299999872843424, Y 평균: 49.0, Z 평균: 1.4000000029802322\n",
      "./object/pillars/pillar2_2.pcd -> X 평균: 27.0, Y 평균: 19.0, Z 평균: 1.4000000029802322\n",
      "./object/pillars/pillar2_3.pcd -> X 평균: 27.0, Y 평균: 25.299999491373697, Z 평균: 1.4000000029802322\n",
      "./object/pillars/pillar0_1.pcd -> X 평균: 10.299999872843424, Y 평균: 40.0, Z 평균: 1.4000000029802322\n",
      "./object/pillars/pillar1_6.pcd -> X 평균: 18.399999872843424, Y 평균: 10.600000254313152, Z 평균: 1.4000000029802322\n",
      "./object/pillars/pillar1_5.pcd -> X 평균: 18.399999872843424, Y 평균: 31.5, Z 평균: 1.4000000029802322\n",
      "./object/pillars/pillar1_4.pcd -> X 평균: 18.399999872843424, Y 평균: 39.7999994913737, Z 평균: 1.4000000029802322\n",
      "./object/pillars/pillar1_0.pcd -> X 평균: 18.399999872843424, Y 평균: 2.200000023841858, Z 평균: 1.4000000029802322\n",
      "./object/pillars/pillar1_1.pcd -> X 평균: 18.399999872843424, Y 평균: 25.5, Z 평균: 1.4000000029802322\n",
      "./object/pillars/pillar1_3.pcd -> X 평균: 18.399999872843424, Y 평균: 19.700000508626303, Z 평균: 1.4000000029802322\n",
      "./object/pillars/pillar1_2.pcd -> X 평균: 18.399999872843424, Y 평균: 49.0, Z 평균: 1.4000000029802322\n",
      "./object/pillars/pillar3_0.pcd -> X 평균: 35.300000508626304, Y 평균: 10.600000254313152, Z 평균: 1.4000000029802322\n"
     ]
    },
    {
     "name": "stderr",
     "output_type": "stream",
     "text": [
      "/opt/anaconda3/lib/python3.9/site-packages/numpy/core/fromnumeric.py:3440: RuntimeWarning: Mean of empty slice.\n",
      "  return _methods._mean(a, axis=axis, dtype=dtype,\n",
      "/opt/anaconda3/lib/python3.9/site-packages/numpy/core/_methods.py:189: RuntimeWarning: invalid value encountered in double_scalars\n",
      "  ret = ret.dtype.type(ret / rcount)\n"
     ]
    }
   ],
   "source": [
    "import numpy as np\n",
    "import open3d as o3d\n",
    "import os\n",
    "\n",
    "def get_all_files_in_directory(directory):\n",
    "    file_list = []\n",
    "    for filename in os.listdir(directory):\n",
    "        file_path = os.path.join(directory, filename)\n",
    "        if os.path.isfile(file_path):\n",
    "            file_list.append(file_path)\n",
    "    return file_list\n",
    "\n",
    "dir_path_wall = \"./object/walls\"\n",
    "wall_files = get_all_files_in_directory(dir_path_wall)\n",
    "dir_path_pillar = \"./object/pillars\"\n",
    "pillar_files = get_all_files_in_directory(dir_path_pillar)\n",
    "\n",
    "pcd_files = wall_files + pillar_files\n",
    "\n",
    "for i in range(len(pcd_files)):\n",
    "    pcd = o3d.io.read_point_cloud(pcd_files[i]) \n",
    "    pcdarr = np.asarray(pcd.points)\n",
    "    x_mean = np.mean(pcdarr[:, 0])\n",
    "    y_mean = np.mean(pcdarr[:, 1])\n",
    "    z_mean = np.mean(pcdarr[:, 2])\n",
    "\n",
    "    print(f\"{pcd_files[i]} -> X 평균: {x_mean}, Y 평균: {y_mean}, Z 평균: {z_mean}\")"
   ]
  },
  {
   "cell_type": "code",
   "execution_count": 1,
   "metadata": {},
   "outputs": [
    {
     "name": "stdout",
     "output_type": "stream",
     "text": [
      "\u001b[1;33m[Open3D WARNING] GLFW Error: Cocoa: Failed to find service port for display\u001b[0;m\n",
      "\u001b[1;33m[Open3D WARNING] GLFW Error: Cocoa: Failed to find service port for display\u001b[0;m\n"
     ]
    },
    {
     "name": "stderr",
     "output_type": "stream",
     "text": [
      "2023-04-14 15:54:42.619 python[4779:6873037] TSM AdjustCapsLockLEDForKeyTransitionHandling - _ISSetPhysicalKeyboardCapsLockLED Inhibit\n"
     ]
    },
    {
     "ename": "",
     "evalue": "",
     "output_type": "error",
     "traceback": [
      "\u001b[1;31m현재 셀 또는 이전 셀에서 코드를 실행하는 동안 Kernel이 충돌했습니다. 셀의 코드를 검토하여 오류의 가능한 원인을 식별하세요. 자세한 내용을 보려면 <a href='https://aka.ms/vscodeJupyterKernelCrash'> 여기 </a> 를 클릭하세요. 자세한 내용은 Jupyter <a href='command:jupyter.viewOutput'>로그</a>를 참조하세요."
     ]
    }
   ],
   "source": [
    "import open3d as o3d\n",
    "\n",
    "# 포인트 클라우드 불러오기\n",
    "pcd = o3d.io.read_point_cloud(\"final_map.pcd\")\n",
    "\n",
    "# 포인트 클라우드 정규 추정\n",
    "pcd.estimate_normals()\n",
    "\n",
    "# 메쉬 생성을 위한 Poisson Surface Reconstruction\n",
    "mesh, densities = o3d.geometry.TriangleMesh.create_from_point_cloud_poisson(pcd, depth=5)\n",
    "\n",
    "# 결과 메쉬를 시각화\n",
    "o3d.visualization.draw_geometries([mesh])"
   ]
  },
  {
   "cell_type": "code",
   "execution_count": 2,
   "metadata": {},
   "outputs": [
    {
     "name": "stdout",
     "output_type": "stream",
     "text": [
      "\u001b[1;33m[Open3D WARNING] GLFW Error: Cocoa: Failed to find service port for display\u001b[0;m\n",
      "\u001b[1;33m[Open3D WARNING] GLFW Error: Cocoa: Failed to find service port for display\u001b[0;m\n",
      "\u001b[1;33m[Open3D WARNING] [SimpleShaderForTriangleMesh] Binding failed with empty triangle mesh.\u001b[0;m\n",
      "\u001b[1;33m[Open3D WARNING] [SimpleShaderForTriangleMesh] Binding failed when preparing data.\u001b[0;m\n",
      "\u001b[1;33m[Open3D WARNING] [SimpleShaderForTriangleMesh] Something is wrong in compiling or binding.\u001b[0;m\n",
      "\u001b[1;33m[Open3D WARNING] [SimpleShaderForTriangleMesh] Binding failed with empty triangle mesh.\u001b[0;m\n",
      "\u001b[1;33m[Open3D WARNING] [SimpleShaderForTriangleMesh] Binding failed when preparing data.\u001b[0;m\n",
      "\u001b[1;33m[Open3D WARNING] [SimpleShaderForTriangleMesh] Something is wrong in compiling or binding.\u001b[0;m\n",
      "\u001b[1;33m[Open3D WARNING] [SimpleShaderForTriangleMesh] Binding failed with empty triangle mesh.\u001b[0;m\n",
      "\u001b[1;33m[Open3D WARNING] [SimpleShaderForTriangleMesh] Binding failed when preparing data.\u001b[0;m\n",
      "\u001b[1;33m[Open3D WARNING] [SimpleShaderForTriangleMesh] Something is wrong in compiling or binding.\u001b[0;m\n",
      "\u001b[1;33m[Open3D WARNING] [SimpleShaderForTriangleMesh] Binding failed with empty triangle mesh.\u001b[0;m\n",
      "\u001b[1;33m[Open3D WARNING] [SimpleShaderForTriangleMesh] Binding failed when preparing data.\u001b[0;m\n",
      "\u001b[1;33m[Open3D WARNING] [SimpleShaderForTriangleMesh] Something is wrong in compiling or binding.\u001b[0;m\n",
      "\u001b[1;33m[Open3D WARNING] [SimpleShaderForTriangleMesh] Binding failed with empty triangle mesh.\u001b[0;m\n",
      "\u001b[1;33m[Open3D WARNING] [SimpleShaderForTriangleMesh] Binding failed when preparing data.\u001b[0;m\n",
      "\u001b[1;33m[Open3D WARNING] [SimpleShaderForTriangleMesh] Something is wrong in compiling or binding.\u001b[0;m\n",
      "\u001b[1;33m[Open3D WARNING] [SimpleShaderForTriangleMesh] Binding failed with empty triangle mesh.\u001b[0;m\n",
      "\u001b[1;33m[Open3D WARNING] [SimpleShaderForTriangleMesh] Binding failed when preparing data.\u001b[0;m\n",
      "\u001b[1;33m[Open3D WARNING] [SimpleShaderForTriangleMesh] Something is wrong in compiling or binding.\u001b[0;m\n",
      "\u001b[1;33m[Open3D WARNING] [SimpleShaderForTriangleMesh] Binding failed with empty triangle mesh.\u001b[0;m\n",
      "\u001b[1;33m[Open3D WARNING] [SimpleShaderForTriangleMesh] Binding failed when preparing data.\u001b[0;m\n",
      "\u001b[1;33m[Open3D WARNING] [SimpleShaderForTriangleMesh] Something is wrong in compiling or binding.\u001b[0;m\n",
      "\u001b[1;33m[Open3D WARNING] [SimpleShaderForTriangleMesh] Binding failed with empty triangle mesh.\u001b[0;m\n",
      "\u001b[1;33m[Open3D WARNING] [SimpleShaderForTriangleMesh] Binding failed when preparing data.\u001b[0;m\n",
      "\u001b[1;33m[Open3D WARNING] [SimpleShaderForTriangleMesh] Something is wrong in compiling or binding.\u001b[0;m\n",
      "\u001b[1;33m[Open3D WARNING] [SimpleShaderForTriangleMesh] Binding failed with empty triangle mesh.\u001b[0;m\n",
      "\u001b[1;33m[Open3D WARNING] [SimpleShaderForTriangleMesh] Binding failed when preparing data.\u001b[0;m\n",
      "\u001b[1;33m[Open3D WARNING] [SimpleShaderForTriangleMesh] Something is wrong in compiling or binding.\u001b[0;m\n",
      "\u001b[1;33m[Open3D WARNING] [SimpleShaderForTriangleMesh] Binding failed with empty triangle mesh.\u001b[0;m\n",
      "\u001b[1;33m[Open3D WARNING] [SimpleShaderForTriangleMesh] Binding failed when preparing data.\u001b[0;m\n",
      "\u001b[1;33m[Open3D WARNING] [SimpleShaderForTriangleMesh] Something is wrong in compiling or binding.\u001b[0;m\n",
      "\u001b[1;33m[Open3D WARNING] [SimpleShaderForTriangleMesh] Binding failed with empty triangle mesh.\u001b[0;m\n",
      "\u001b[1;33m[Open3D WARNING] [SimpleShaderForTriangleMesh] Binding failed when preparing data.\u001b[0;m\n",
      "\u001b[1;33m[Open3D WARNING] [SimpleShaderForTriangleMesh] Something is wrong in compiling or binding.\u001b[0;m\n",
      "\u001b[1;33m[Open3D WARNING] [SimpleShaderForTriangleMesh] Binding failed with empty triangle mesh.\u001b[0;m\n",
      "\u001b[1;33m[Open3D WARNING] [SimpleShaderForTriangleMesh] Binding failed when preparing data.\u001b[0;m\n",
      "\u001b[1;33m[Open3D WARNING] [SimpleShaderForTriangleMesh] Something is wrong in compiling or binding.\u001b[0;m\n",
      "\u001b[1;33m[Open3D WARNING] [SimpleShaderForTriangleMesh] Binding failed with empty triangle mesh.\u001b[0;m\n",
      "\u001b[1;33m[Open3D WARNING] [SimpleShaderForTriangleMesh] Binding failed when preparing data.\u001b[0;m\n",
      "\u001b[1;33m[Open3D WARNING] [SimpleShaderForTriangleMesh] Something is wrong in compiling or binding.\u001b[0;m\n"
     ]
    },
    {
     "name": "stderr",
     "output_type": "stream",
     "text": [
      "2023-04-13 23:42:48.193 python[3542:223387] TSM AdjustCapsLockLEDForKeyTransitionHandling - _ISSetPhysicalKeyboardCapsLockLED Inhibit\n"
     ]
    },
    {
     "ename": "",
     "evalue": "",
     "output_type": "error",
     "traceback": [
      "\u001b[1;31m현재 셀 또는 이전 셀에서 코드를 실행하는 동안 Kernel이 충돌했습니다. 셀의 코드를 검토하여 오류의 가능한 원인을 식별하세요. 자세한 내용을 보려면 <a href='https://aka.ms/vscodeJupyterKernelCrash'> 여기 </a> 를 클릭하세요. 자세한 내용은 Jupyter <a href='command:jupyter.viewOutput'>로그</a>를 참조하세요."
     ]
    }
   ],
   "source": [
    "import open3d as o3d\n",
    "\n",
    "# 포인트 클라우드 불러오기\n",
    "pcd = o3d.io.read_point_cloud(\"./object/pillars/pillar0_0.pcd\")\n",
    "\n",
    "# 포인트 클라우드 정규 추정\n",
    "pcd.estimate_normals()\n",
    "\n",
    "radii = [0.005, 0.01, 0.02, 0.04]\n",
    "mesh = o3d.geometry.TriangleMesh.create_from_point_cloud_ball_pivoting(\n",
    "    pcd, o3d.utility.DoubleVector(radii))\n",
    "\n",
    "# 결과 메쉬를 시각화\n",
    "o3d.visualization.draw_geometries([mesh])"
   ]
  }
 ],
 "metadata": {
  "kernelspec": {
   "display_name": "base",
   "language": "python",
   "name": "python3"
  },
  "language_info": {
   "codemirror_mode": {
    "name": "ipython",
    "version": 3
   },
   "file_extension": ".py",
   "mimetype": "text/x-python",
   "name": "python",
   "nbconvert_exporter": "python",
   "pygments_lexer": "ipython3",
   "version": "3.9.13"
  },
  "orig_nbformat": 4
 },
 "nbformat": 4,
 "nbformat_minor": 2
}
